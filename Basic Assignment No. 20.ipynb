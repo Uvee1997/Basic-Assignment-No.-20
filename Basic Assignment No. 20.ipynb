{
 "cells": [
  {
   "cell_type": "markdown",
   "id": "aacb6ef3",
   "metadata": {},
   "source": [
    "1) Set the variable test1 to the string 'This is a test of the emergency text system,' and save test1 to a file named          test.txt.    "
   ]
  },
  {
   "cell_type": "code",
   "execution_count": 2,
   "id": "6bf707b1",
   "metadata": {},
   "outputs": [
    {
     "data": {
      "text/plain": [
       "44"
      ]
     },
     "execution_count": 2,
     "metadata": {},
     "output_type": "execute_result"
    }
   ],
   "source": [
    "test1 = \"This is a test of the emergency text system,\"\n",
    "file = open('test.txt','w')\n",
    "file.write(test1)"
   ]
  },
  {
   "cell_type": "markdown",
   "id": "34656a2c",
   "metadata": {},
   "source": [
    "2) Read the contents of the file test.txt into the variable test2. Is there a difference between test 1 and test 2?"
   ]
  },
  {
   "cell_type": "code",
   "execution_count": 4,
   "id": "0c254b8a",
   "metadata": {},
   "outputs": [
    {
     "data": {
      "text/plain": [
       "'This is a test of the emergency text system'"
      ]
     },
     "execution_count": 4,
     "metadata": {},
     "output_type": "execute_result"
    }
   ],
   "source": [
    "file2 = open('test.txt','r')\n",
    "test2=file2.readline()\n",
    "test2"
   ]
  },
  {
   "cell_type": "code",
   "execution_count": 8,
   "id": "b925129b",
   "metadata": {},
   "outputs": [],
   "source": [
    "if test1 == test2:\n",
    "    print('both are different')"
   ]
  },
  {
   "cell_type": "markdown",
   "id": "d6345813",
   "metadata": {},
   "source": [
    "3) Create a CSV file called books.csv by using these lines:\n",
    "   title,author,year\n",
    "   The Weirdstone of Brisingamen,Alan Garner,1960\n",
    "   Perdido Street Station,China Miéville,2000\n",
    "   Thud!,Terry Pratchett,2005\n",
    "   The Spellman Files,Lisa Lutz,2007\n",
    "   Small Gods,Terry Pratchett,1992"
   ]
  },
  {
   "cell_type": "code",
   "execution_count": 10,
   "id": "856b7bbe",
   "metadata": {},
   "outputs": [],
   "source": [
    "import csv\n",
    "rows = [['title','author','year'],\n",
    "        ['The Weirdstone of Brisingamen,Alan Garner',1960],\n",
    "        ['Perdido Street Station,China Miéville',2000],\n",
    "        ['Thud!,Terry Pratchett',2005],\n",
    "        ['The Spellman Files,Lisa Lutz',2007],\n",
    "        ['Small Gods,Terry Pratchett',1992]]\n",
    "with open('books.csv','w',newline='') as file:\n",
    "    writer = csv.writer(file)\n",
    "    writer.writerows(rows)\n",
    "    \n",
    "    \n"
   ]
  },
  {
   "cell_type": "markdown",
   "id": "a75c29b5",
   "metadata": {},
   "source": [
    "4) Use the sqlite3 module to create a SQLite database called books.db, and a table called books with these fields: title     (text), author (text), and year (integer)."
   ]
  },
  {
   "cell_type": "code",
   "execution_count": 15,
   "id": "13e4da79",
   "metadata": {},
   "outputs": [],
   "source": [
    "import sqlite3\n",
    "conn = sqlite3.connect('books.db')\n",
    "c = conn.cursor()\n",
    "\n",
    "c.execute('create table books(title varchar(20), author varchar(20), year int(10))')\n",
    "conn.commit()          "
   ]
  },
  {
   "cell_type": "markdown",
   "id": "dd4ff8cb",
   "metadata": {},
   "source": [
    "5) Read books.csv and insert its data into the book table."
   ]
  },
  {
   "cell_type": "code",
   "execution_count": 18,
   "id": "c4adf129",
   "metadata": {},
   "outputs": [],
   "source": [
    "import pandas as pd\n",
    "\n",
    "read_books = pd.read_csv('books.csv',encoding='unicode_escape')\n",
    "read_books.to_sql('books', conn , if_exists='append',index = False) "
   ]
  },
  {
   "cell_type": "markdown",
   "id": "addb028c",
   "metadata": {},
   "source": [
    "6) Select and print the title column from the book table in alphabetical order."
   ]
  },
  {
   "cell_type": "code",
   "execution_count": 19,
   "id": "117bf57b",
   "metadata": {},
   "outputs": [
    {
     "name": "stdout",
     "output_type": "stream",
     "text": [
      "[('Perdido Street Station,China Miéville',), ('Small Gods,Terry Pratchett',), ('The Spellman Files,Lisa Lutz',), ('The Weirdstone of Brisingamen,Alan Garner',), ('Thud!,Terry Pratchett',)]\n"
     ]
    }
   ],
   "source": [
    "c.execute('select title from books order by title asc')\n",
    "print(c.fetchall())"
   ]
  },
  {
   "cell_type": "markdown",
   "id": "5f415255",
   "metadata": {},
   "source": [
    "7) From the book table, select and print all columns in the order of publication."
   ]
  },
  {
   "cell_type": "code",
   "execution_count": 24,
   "id": "68d874bc",
   "metadata": {},
   "outputs": [
    {
     "data": {
      "text/html": [
       "<div>\n",
       "<style scoped>\n",
       "    .dataframe tbody tr th:only-of-type {\n",
       "        vertical-align: middle;\n",
       "    }\n",
       "\n",
       "    .dataframe tbody tr th {\n",
       "        vertical-align: top;\n",
       "    }\n",
       "\n",
       "    .dataframe thead th {\n",
       "        text-align: right;\n",
       "    }\n",
       "</style>\n",
       "<table border=\"1\" class=\"dataframe\">\n",
       "  <thead>\n",
       "    <tr style=\"text-align: right;\">\n",
       "      <th></th>\n",
       "      <th>title</th>\n",
       "      <th>author</th>\n",
       "      <th>year</th>\n",
       "    </tr>\n",
       "  </thead>\n",
       "  <tbody>\n",
       "    <tr>\n",
       "      <th>0</th>\n",
       "      <td>The Weirdstone of Brisingamen,Alan Garner</td>\n",
       "      <td>1960</td>\n",
       "      <td>None</td>\n",
       "    </tr>\n",
       "    <tr>\n",
       "      <th>1</th>\n",
       "      <td>Perdido Street Station,China Miéville</td>\n",
       "      <td>2000</td>\n",
       "      <td>None</td>\n",
       "    </tr>\n",
       "    <tr>\n",
       "      <th>2</th>\n",
       "      <td>Thud!,Terry Pratchett</td>\n",
       "      <td>2005</td>\n",
       "      <td>None</td>\n",
       "    </tr>\n",
       "    <tr>\n",
       "      <th>3</th>\n",
       "      <td>The Spellman Files,Lisa Lutz</td>\n",
       "      <td>2007</td>\n",
       "      <td>None</td>\n",
       "    </tr>\n",
       "    <tr>\n",
       "      <th>4</th>\n",
       "      <td>Small Gods,Terry Pratchett</td>\n",
       "      <td>1992</td>\n",
       "      <td>None</td>\n",
       "    </tr>\n",
       "  </tbody>\n",
       "</table>\n",
       "</div>"
      ],
      "text/plain": [
       "                                       title author  year\n",
       "0  The Weirdstone of Brisingamen,Alan Garner   1960  None\n",
       "1      Perdido Street Station,China Miéville   2000  None\n",
       "2                      Thud!,Terry Pratchett   2005  None\n",
       "3               The Spellman Files,Lisa Lutz   2007  None\n",
       "4                 Small Gods,Terry Pratchett   1992  None"
      ]
     },
     "execution_count": 24,
     "metadata": {},
     "output_type": "execute_result"
    }
   ],
   "source": [
    "c.execute('select title,author,year from books order by year')\n",
    "\n",
    "df = pd.DataFrame(c.fetchall(), columns=['title','author','year'])\n",
    "df"
   ]
  },
  {
   "cell_type": "markdown",
   "id": "50c1b2d5",
   "metadata": {},
   "source": [
    "8) Use the sqlalchemy module to connect to the sqlite3 database books.db that you just made in exercise 6."
   ]
  },
  {
   "cell_type": "code",
   "execution_count": 27,
   "id": "a851dced",
   "metadata": {},
   "outputs": [
    {
     "name": "stdout",
     "output_type": "stream",
     "text": [
      "('The Weirdstone of Brisingamen,Alan Garner', '1960', None)\n",
      "('Perdido Street Station,China Miéville', '2000', None)\n",
      "('Thud!,Terry Pratchett', '2005', None)\n",
      "('The Spellman Files,Lisa Lutz', '2007', None)\n",
      "('Small Gods,Terry Pratchett', '1992', None)\n"
     ]
    }
   ],
   "source": [
    "import sqlalchemy\n",
    "engine = sqlalchemy.create_engine('sqlite:///books.db')\n",
    "rows = engine.execute('select * from books')\n",
    "for i in rows:\n",
    "    print(i)"
   ]
  },
  {
   "cell_type": "markdown",
   "id": "1bb64692",
   "metadata": {},
   "source": [
    "9) Install the Redis server and the Python redis library (pip install redis) on your computer. Create a\n",
    "   Redis hash called test with the fields count (1) and name ('Fester Bestertester'). Print all the fields for test."
   ]
  },
  {
   "cell_type": "code",
   "execution_count": 29,
   "id": "441408b6",
   "metadata": {},
   "outputs": [
    {
     "name": "stdout",
     "output_type": "stream",
     "text": [
      "Requirement already satisfied: redis in c:\\users\\yuvraj\\anaconda3\\lib\\site-packages (4.3.4)\n",
      "Requirement already satisfied: async-timeout>=4.0.2 in c:\\users\\yuvraj\\anaconda3\\lib\\site-packages (from redis) (4.0.2)\n",
      "Requirement already satisfied: packaging>=20.4 in c:\\users\\yuvraj\\anaconda3\\lib\\site-packages (from redis) (21.0)\n",
      "Requirement already satisfied: deprecated>=1.2.3 in c:\\users\\yuvraj\\anaconda3\\lib\\site-packages (from redis) (1.2.13)\n",
      "Requirement already satisfied: wrapt<2,>=1.10 in c:\\users\\yuvraj\\anaconda3\\lib\\site-packages (from deprecated>=1.2.3->redis) (1.12.1)\n",
      "Requirement already satisfied: pyparsing>=2.0.2 in c:\\users\\yuvraj\\anaconda3\\lib\\site-packages (from packaging>=20.4->redis) (3.0.4)\n"
     ]
    }
   ],
   "source": [
    "!pip install redis"
   ]
  },
  {
   "cell_type": "code",
   "execution_count": null,
   "id": "9e436ecf",
   "metadata": {},
   "outputs": [],
   "source": [
    "import redis\n",
    "conn = redis.Redis()\n",
    "conn.delete('test')\n",
    "conn.hmset('test', {'count':1, 'name':'Fester Bestertester'})\n",
    "conn.hgetall('test')"
   ]
  },
  {
   "cell_type": "markdown",
   "id": "2f6bb496",
   "metadata": {},
   "source": [
    "10) Increment the count field of test and print it."
   ]
  },
  {
   "cell_type": "code",
   "execution_count": null,
   "id": "aee593c6",
   "metadata": {},
   "outputs": [],
   "source": [
    "conn.hicrby('test','count',3)"
   ]
  }
 ],
 "metadata": {
  "kernelspec": {
   "display_name": "Python 3 (ipykernel)",
   "language": "python",
   "name": "python3"
  },
  "language_info": {
   "codemirror_mode": {
    "name": "ipython",
    "version": 3
   },
   "file_extension": ".py",
   "mimetype": "text/x-python",
   "name": "python",
   "nbconvert_exporter": "python",
   "pygments_lexer": "ipython3",
   "version": "3.9.7"
  }
 },
 "nbformat": 4,
 "nbformat_minor": 5
}
